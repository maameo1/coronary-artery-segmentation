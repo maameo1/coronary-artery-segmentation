{
 "cells": [
  {
   "cell_type": "markdown",
   "metadata": {},
   "source": [
    "# Data Exploration: Rotterdam Dataset\n",
    "\n",
    "This notebook explores the Rotterdam collaboration dataset for pipeline development and feasibility testing.\n",
    "\n",
    "**Note:** This data is for exploratory purposes only and will not be used for publication results."
   ]
  },
  {
   "cell_type": "code",
   "execution_count": null,
   "metadata": {},
   "outputs": [],
   "source": [
    "import sys\n",
    "sys.path.append('..')\n",
    "\n",
    "import numpy as np\n",
    "import matplotlib.pyplot as plt\n",
    "import nibabel as nib\n",
    "from pathlib import Path\n",
    "import pandas as pd\n",
    "from IPython.display import display\n",
    "\n",
    "# Set plotting style\n",
    "plt.style.use('seaborn-v0_8-darkgrid')\n",
    "%matplotlib inline"
   ]
  },
  {
   "cell_type": "markdown",
   "metadata": {},
   "source": [
    "## 1. Dataset Overview\n",
    "\n",
    "Let's start by examining the Rotterdam dataset structure and contents."
   ]
  },
  {
   "cell_type": "code",
   "execution_count": null,
   "metadata": {},
   "outputs": [],
   "source": [
    "# Define data directory\n",
    "data_dir = Path('../data/rotterdam')\n",
    "\n",
    "# Check if directory exists\n",
    "if not data_dir.exists():\n",
    "    print(f\"⚠️  Data directory not found: {data_dir}\")\n",
    "    print(\"Please place the Rotterdam data in the data/rotterdam/ directory.\")\n",
    "else:\n",
    "    print(f\"✓ Data directory found: {data_dir}\")\n",
    "    \n",
    "    # List contents\n",
    "    print(\"\\nDirectory structure:\")\n",
    "    for item in sorted(data_dir.rglob('*')):\n",
    "        if item.is_file():\n",
    "            relative_path = item.relative_to(data_dir)\n",
    "            print(f\"  {relative_path}\")"
   ]
  },
  {
   "cell_type": "markdown",
   "metadata": {},
   "source": [
    "## 2. Load and Inspect Sample Volume\n",
    "\n",
    "Load a sample CT volume and inspect its properties."
   ]
  },
  {
   "cell_type": "code",
   "execution_count": null,
   "metadata": {},
   "outputs": [],
   "source": [
    "# Find first available image file\n",
    "image_files = list(data_dir.rglob('*.nii.gz')) + list(data_dir.rglob('*.nii'))\n",
    "\n",
    "if len(image_files) == 0:\n",
    "    print(\"No NIfTI files found in the data directory.\")\n",
    "else:\n",
    "    sample_file = image_files[0]\n",
    "    print(f\"Loading: {sample_file.name}\")\n",
    "    \n",
    "    # Load volume\n",
    "    img = nib.load(str(sample_file))\n",
    "    volume = img.get_fdata()\n",
    "    \n",
    "    # Display properties\n",
    "    print(f\"\\nVolume properties:\")\n",
    "    print(f\"  Shape: {volume.shape}\")\n",
    "    print(f\"  Data type: {volume.dtype}\")\n",
    "    print(f\"  Voxel dimensions: {img.header.get_zooms()} mm\")\n",
    "    print(f\"  Intensity range: [{volume.min():.1f}, {volume.max():.1f}]\")\n",
    "    print(f\"  Mean intensity: {volume.mean():.1f}\")\n",
    "    print(f\"  Std intensity: {volume.std():.1f}\")"
   ]
  },
  {
   "cell_type": "markdown",
   "metadata": {},
   "source": [
    "## 3. Visualize Sample Slices\n",
    "\n",
    "Visualize axial, sagittal, and coronal slices from the CT volume."
   ]
  },
  {
   "cell_type": "code",
   "execution_count": null,
   "metadata": {},
   "outputs": [],
   "source": [
    "if len(image_files) > 0:\n",
    "    # Get middle slices\n",
    "    axial_slice = volume[:, :, volume.shape[2] // 2]\n",
    "    sagittal_slice = volume[volume.shape[0] // 2, :, :]\n",
    "    coronal_slice = volume[:, volume.shape[1] // 2, :]\n",
    "    \n",
    "    # Create figure\n",
    "    fig, axes = plt.subplots(1, 3, figsize=(15, 5))\n",
    "    \n",
    "    # Axial view\n",
    "    axes[0].imshow(axial_slice.T, cmap='gray', origin='lower')\n",
    "    axes[0].set_title('Axial View')\n",
    "    axes[0].axis('off')\n",
    "    \n",
    "    # Sagittal view\n",
    "    axes[1].imshow(sagittal_slice.T, cmap='gray', origin='lower')\n",
    "    axes[1].set_title('Sagittal View')\n",
    "    axes[1].axis('off')\n",
    "    \n",
    "    # Coronal view\n",
    "    axes[2].imshow(coronal_slice.T, cmap='gray', origin='lower')\n",
    "    axes[2].set_title('Coronal View')\n",
    "    axes[2].axis('off')\n",
    "    \n",
    "    plt.tight_layout()\n",
    "    plt.show()"
   ]
  },
  {
   "cell_type": "markdown",
   "metadata": {},
   "source": [
    "## 4. Intensity Distribution Analysis\n",
    "\n",
    "Analyze the intensity distribution (Hounsfield Units) in the CT volume."
   ]
  },
  {
   "cell_type": "code",
   "execution_count": null,
   "metadata": {},
   "outputs": [],
   "source": [
    "if len(image_files) > 0:\n",
    "    # Plot histogram\n",
    "    fig, ax = plt.subplots(1, 1, figsize=(10, 5))\n",
    "    \n",
    "    # Flatten volume and remove extreme outliers for visualization\n",
    "    flat_volume = volume.flatten()\n",
    "    p1, p99 = np.percentile(flat_volume, [1, 99])\n",
    "    \n",
    "    ax.hist(flat_volume, bins=100, range=(p1, p99), alpha=0.7, color='blue')\n",
    "    ax.axvline(x=volume.mean(), color='red', linestyle='--', label=f'Mean: {volume.mean():.1f}')\n",
    "    ax.set_xlabel('Intensity (HU)')\n",
    "    ax.set_ylabel('Frequency')\n",
    "    ax.set_title('CT Intensity Distribution')\n",
    "    ax.legend()\n",
    "    ax.grid(True, alpha=0.3)\n",
    "    \n",
    "    plt.tight_layout()\n",
    "    plt.show()"
   ]
  },
  {
   "cell_type": "markdown",
   "metadata": {},
   "source": [
    "## 5. Dataset Summary\n",
    "\n",
    "Create a summary table of all available cases."
   ]
  },
  {
   "cell_type": "code",
   "execution_count": null,
   "metadata": {},
   "outputs": [],
   "source": [
    "if len(image_files) > 0:\n",
    "    # Collect metadata for all volumes\n",
    "    metadata = []\n",
    "    \n",
    "    for img_file in image_files[:10]:  # Limit to first 10 for quick exploration\n",
    "        img = nib.load(str(img_file))\n",
    "        vol = img.get_fdata()\n",
    "        \n",
    "        metadata.append({\n",
    "            'filename': img_file.name,\n",
    "            'shape_x': vol.shape[0],\n",
    "            'shape_y': vol.shape[1],\n",
    "            'shape_z': vol.shape[2],\n",
    "            'spacing_x': img.header.get_zooms()[0],\n",
    "            'spacing_y': img.header.get_zooms()[1],\n",
    "            'spacing_z': img.header.get_zooms()[2],\n",
    "            'min_intensity': vol.min(),\n",
    "            'max_intensity': vol.max(),\n",
    "            'mean_intensity': vol.mean(),\n",
    "        })\n",
    "    \n",
    "    # Create DataFrame\n",
    "    df = pd.DataFrame(metadata)\n",
    "    \n",
    "    print(f\"Dataset Summary (showing {len(df)} cases):\")\n",
    "    display(df)\n",
    "    \n",
    "    print(\"\\nSummary Statistics:\")\n",
    "    display(df.describe())"
   ]
  },
  {
   "cell_type": "markdown",
   "metadata": {},
   "source": [
    "## 6. Next Steps\n",
    "\n",
    "Based on this exploration:\n",
    "\n",
    "1. **Data preprocessing pipeline**: Define appropriate intensity windowing (HU range)\n",
    "2. **Resampling strategy**: Determine target spacing for consistent voxel dimensions\n",
    "3. **Patch extraction**: Design patch size and sampling strategy for training\n",
    "4. **Augmentation**: Plan data augmentation techniques suitable for CT angiography\n",
    "\n",
    "These insights will inform the preprocessing pipeline for the main ImageCAS dataset."
   ]
  },
  {
   "cell_type": "code",
   "execution_count": null,
   "metadata": {},
   "outputs": [],
   "source": []
  }
 ],
 "metadata": {
  "kernelspec": {
   "display_name": "Python 3",
   "language": "python",
   "name": "python3"
  },
  "language_info": {
   "codemirror_mode": {
    "name": "ipython",
    "version": 3
   },
   "file_extension": ".py",
   "mimetype": "text/x-python",
   "name": "python",
   "nbconvert_exporter": "python",
   "pygments_lexer": "ipython3",
   "version": "3.8.0"
  }
 },
 "nbformat": 4,
 "nbformat_minor": 4
}
